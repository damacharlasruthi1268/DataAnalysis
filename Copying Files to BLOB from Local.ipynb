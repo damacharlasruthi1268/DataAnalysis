{
 "cells": [
  {
   "cell_type": "code",
   "execution_count": null,
   "id": "8d053bc4",
   "metadata": {},
   "outputs": [],
   "source": [
    "!pip Install azure-storage-blob"
   ]
  },
  {
   "cell_type": "code",
   "execution_count": null,
   "id": "781ef434",
   "metadata": {},
   "outputs": [],
   "source": [
    "import glob\n",
    "import os\n",
    "from azure.storage.blob import BlobServiceClient\n",
    "\n",
    "storage_account_name=\"******\"#provide storage account name\n",
    "storage_account_access_key=\"*********\"#provide storage account key\n",
    "connection_string=\"*********\"#provide connection string for your blob\n",
    "container_name=\"******\"#provider the container name where u want to save the file\n",
    "\n",
    "def uploadToBlobStorage(file_path,file_name):\n",
    "    blob_service_client=BlobServiceClient.from_connection_string(connection_string)\n",
    "    blob_client=blob_service_client.get_blob_client(container=container_name,blob=file_name)\n",
    "    \n",
    "    with open(file_path,'rb')as data:\n",
    "        blob_client.upload_blob(data)\n",
    "    print(\"file uploaded sucessfully\")\n",
    "\n",
    "list_of_files=glob.glob(r'D:\\PROJECT_1\\Customer*.xlsx')# here we can format or specify file type as per requirement\n",
    "\n",
    "latest_file=max(list_of_files,key=os.path.getctime)#ctime=createdtime mtime=modifiedtime\n",
    "print(os.path.basename(latest_file))#just to get filename\n",
    "print(latest_file)#to get full path of the file\n",
    "uploadToBlobStorage(latest_file,'Customer Call List')"
   ]
  }
 ],
 "metadata": {
  "kernelspec": {
   "display_name": "Python 3 (ipykernel)",
   "language": "python",
   "name": "python3"
  },
  "language_info": {
   "codemirror_mode": {
    "name": "ipython",
    "version": 3
   },
   "file_extension": ".py",
   "mimetype": "text/x-python",
   "name": "python",
   "nbconvert_exporter": "python",
   "pygments_lexer": "ipython3",
   "version": "3.11.4"
  }
 },
 "nbformat": 4,
 "nbformat_minor": 5
}
